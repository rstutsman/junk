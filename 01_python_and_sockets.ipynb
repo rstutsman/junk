{
  "nbformat": 4,
  "nbformat_minor": 0,
  "metadata": {
    "colab": {
      "provenance": [],
      "authorship_tag": "ABX9TyNlESQrWRj4pMneK4prNv6l",
      "include_colab_link": true
    },
    "kernelspec": {
      "name": "python3",
      "display_name": "Python 3"
    },
    "language_info": {
      "name": "python"
    }
  },
  "cells": [
    {
      "cell_type": "markdown",
      "metadata": {
        "id": "view-in-github",
        "colab_type": "text"
      },
      "source": [
        "<a href=\"https://colab.research.google.com/github/rstutsman/junk/blob/main/01_python_and_sockets.ipynb\" target=\"_parent\"><img src=\"https://colab.research.google.com/assets/colab-badge.svg\" alt=\"Open In Colab\"/></a>"
      ]
    },
    {
      "cell_type": "code",
      "execution_count": 1,
      "metadata": {
        "id": "SNCTT6m0Jo_y"
      },
      "outputs": [],
      "source": [
        "from socket import *"
      ]
    },
    {
      "cell_type": "code",
      "source": [
        "s = socket(AF_INET, SOCK_STREAM)\n",
        "s"
      ],
      "metadata": {
        "colab": {
          "base_uri": "https://localhost:8080/"
        },
        "id": "mcqv4NZ-J3Of",
        "outputId": "4c13d571-bbba-46bf-8815-afc1e6e8da7c"
      },
      "execution_count": 3,
      "outputs": [
        {
          "output_type": "execute_result",
          "data": {
            "text/plain": [
              "<socket.socket fd=43, family=AddressFamily.AF_INET, type=SocketKind.SOCK_STREAM, proto=0, laddr=('0.0.0.0', 0)>"
            ]
          },
          "metadata": {},
          "execution_count": 3
        }
      ]
    },
    {
      "cell_type": "code",
      "source": [
        "addr = ('www.google.com', 80)\n",
        "s.connect(addr)"
      ],
      "metadata": {
        "id": "nD3QOdrNKFnV"
      },
      "execution_count": 5,
      "outputs": []
    },
    {
      "cell_type": "code",
      "source": [
        "s.send(b'GET / HTTP/1.0\\r\\n\\n')"
      ],
      "metadata": {
        "colab": {
          "base_uri": "https://localhost:8080/",
          "height": 193
        },
        "id": "yj0iHLOtKPod",
        "outputId": "d38a39e9-9f1b-43ca-e5c4-680103f0c48a"
      },
      "execution_count": 7,
      "outputs": [
        {
          "output_type": "error",
          "ename": "AttributeError",
          "evalue": "ignored",
          "traceback": [
            "\u001b[0;31m---------------------------------------------------------------------------\u001b[0m",
            "\u001b[0;31mAttributeError\u001b[0m                            Traceback (most recent call last)",
            "\u001b[0;32m<ipython-input-7-b6d0f02f1b4c>\u001b[0m in \u001b[0;36m<cell line: 2>\u001b[0;34m()\u001b[0m\n\u001b[1;32m      1\u001b[0m \u001b[0ms\u001b[0m\u001b[0;34m.\u001b[0m\u001b[0msend\u001b[0m\u001b[0;34m(\u001b[0m\u001b[0;34mb'GET / HTTP/1.0\\r\\n\\n'\u001b[0m\u001b[0;34m)\u001b[0m\u001b[0;34m\u001b[0m\u001b[0;34m\u001b[0m\u001b[0m\n\u001b[0;32m----> 2\u001b[0;31m \u001b[0ms\u001b[0m\u001b[0;34m.\u001b[0m\u001b[0mreadall\u001b[0m\u001b[0;34m(\u001b[0m\u001b[0;34m)\u001b[0m\u001b[0;34m\u001b[0m\u001b[0;34m\u001b[0m\u001b[0m\n\u001b[0m",
            "\u001b[0;31mAttributeError\u001b[0m: 'socket' object has no attribute 'readall'"
          ]
        }
      ]
    },
    {
      "cell_type": "code",
      "source": [
        "s.recv(1024)"
      ],
      "metadata": {
        "colab": {
          "base_uri": "https://localhost:8080/"
        },
        "id": "qjDhKXB0Ka3C",
        "outputId": "44af7f93-bf25-47a6-a519-c42bac6a9a82"
      },
      "execution_count": 9,
      "outputs": [
        {
          "output_type": "execute_result",
          "data": {
            "text/plain": [
              "b'HTTP/1.0 200 OK\\r\\nDate: Wed, 20 Dec 2023 21:37:34 GMT\\r\\nExpires: -1\\r\\nCache-Control: private, max-age=0\\r\\nContent-Type: text/html; charset=ISO-8859-1\\r\\nContent-Security-Policy-Report-Only: object-src \\'none\\';base-uri \\'self\\';script-src \\'nonce-Vv1d4jhfpkGe8KP7-0ZuJg\\' \\'strict-dynamic\\' \\'report-sample\\' \\'unsafe-eval\\' \\'unsafe-inline\\' https: http:;report-uri https://csp.withgoogle.com/csp/gws/other-hp\\r\\nP3P: CP=\"This is not a P3P policy! See g.co/p3phelp for more info.\"\\r\\nServer: gws\\r\\nX-XSS-Protection: 0\\r\\nX-Frame-Options: SAMEORIGIN\\r\\nSet-Cookie: 1P_JAR=2023-12-20-21; expires=Fri, 19-Jan-2024 21:37:34 GMT; path=/; domain=.google.com; Secure\\r\\nSet-Cookie: AEC=Ackid1QMGg3y0Ep8zj9z8mItqQas2B2cqlLRCmf18y9BfzXJzaTBlgg5PA; expires=Mon, 17-Jun-2024 21:37:34 GMT; path=/; domain=.google.com; Secure; HttpOnly; SameSite=lax\\r\\nSet-Cookie: NID=511=QhQy7xNszgy4LGwdcHuj-bfMt8LrD6XHXgDbJH0-sQPasTdCZc-A17hemj3UvGzNtFaEKsYkJc7buMsGqjxQQbAyTUMYKAKbcpBRUJyEABFLyZ5fDewSApd5suK8PvEWq4_w79CW3Ui1FC6R2BAq-fx60tM77Un8hu0OGMRrgdQ; expires=Thu, 20-Jun-202'"
            ]
          },
          "metadata": {},
          "execution_count": 9
        }
      ]
    }
  ]
}