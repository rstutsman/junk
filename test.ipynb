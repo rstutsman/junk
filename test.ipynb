{
 "cells": [
  {
   "cell_type": "code",
   "execution_count": 3,
   "metadata": {},
   "outputs": [
    {
     "name": "stdout",
     "output_type": "stream",
     "text": [
      "b'HTTP/1.1 200 OK\\r\\nDate: Fri, 01 Dec 2023 21:45:22 GMT\\r\\nServer: Apache/2.2.24 (FreeBSD) PHP/5.3.10 with Suhosin-Patch mod_ssl/2.2.24 OpenSSL/1.0.1h DAV/2\\r\\nX-Powered-By: PHP/5.3.10\\r\\nConnection: close\\r\\nContent-Type: text/html\\r\\n\\r\\n<!DOCTYPE HTML PUBLIC \"-//W3C//DTD HTML 4.01 Transitional//EN\" \"http://www.w3.org/TR/html4/loose.dtd\">\\n\\n<!--\\n\\nCopyright (c) 2012, Laboratory of Advanced Systems eesearch (LASR), Department\\nof Computer Science, The University of Texas at Austin\\n\\nAll rights reserved.\\n\\nRedistribution and use of this code, with or without modification, are\\npermitted provided that the following conditions are met:\\n\\nRedistributions must retain the above copyright notice, this list of\\nconditions, the footer labeled \"LASR footer\" at the bottom of the main page\\n(/index.php), and the following disclaimer.\\n\\nNeither the name of LASR nor the names of its contributors may be used to\\nendorse or promote products derived from this software without specific prior\\nwritten permission.\\n\\nTHIS SOFTWARE IS PROVIDED BY THE COPYRI'\n"
     ]
    }
   ],
   "source": [
    "from socket import *\n",
    "\n",
    "s = socket(AF_INET, SOCK_STREAM)\n",
    "s.connect(('www.flux.utah.edu', 80))\n",
    "s.send(b'GET / HTTP/1.0\\r\\n\\r\\n')\n",
    "r = s.recv(1024)\n",
    "print(r)"
   ]
  }
 ],
 "metadata": {
  "kernelspec": {
   "display_name": "Python 3",
   "language": "python",
   "name": "python3"
  },
  "language_info": {
   "codemirror_mode": {
    "name": "ipython",
    "version": 3
   },
   "file_extension": ".py",
   "mimetype": "text/x-python",
   "name": "python",
   "nbconvert_exporter": "python",
   "pygments_lexer": "ipython3",
   "version": "3.10.13"
  }
 },
 "nbformat": 4,
 "nbformat_minor": 2
}
